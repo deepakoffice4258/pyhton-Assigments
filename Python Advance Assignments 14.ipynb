{
 "cells": [
  {
   "cell_type": "markdown",
   "id": "b05b4c9a",
   "metadata": {},
   "source": [
    "# Q1. Is an assignment operator like += only for show? Is it possible that it would lead to faster results at the runtime?"
   ]
  },
  {
   "cell_type": "markdown",
   "id": "5bccb9c5",
   "metadata": {},
   "source": [
    "+= adds a number to a variable, changing the variable itself in the process (whereas + would not). Similar to this, there are the following that also modifies the variable: -= , subtracts a value from variable, setting the variable to the result. *= , multiplies the variable and a value, making the outcome the variable."
   ]
  },
  {
   "cell_type": "markdown",
   "id": "34134ed1",
   "metadata": {},
   "source": [
    "# Q2. In Python, what is the most effective way to set a list of 100 integers to 0?"
   ]
  },
  {
   "cell_type": "markdown",
   "id": "0d0848c0",
   "metadata": {},
   "source": [
    "Simple loop with append : my_list = [] for i in range(100): my_list.append(0)\n",
    "Simple loop with += : my_list = [] for i in range(100): my_list += [0]\n",
    "List comprehension: my_list = [0 for i in range(100)]"
   ]
  },
  {
   "cell_type": "markdown",
   "id": "f017e2c3",
   "metadata": {},
   "source": [
    "# Q3. Is it possible to use list comprehension with a string? If so, how can you go about doing it?"
   ]
  },
  {
   "cell_type": "markdown",
   "id": "53aa6f6a",
   "metadata": {},
   "source": [
    "It can identify when it receives a string or a tuple and work on it like a list. You can do that using loops. However, not every loop can be rewritten as list comprehension."
   ]
  },
  {
   "cell_type": "markdown",
   "id": "91c866fe",
   "metadata": {},
   "source": [
    "# Q4. From the command line, how do you get support with a user-written Python programme? Is this possible from inside IDLE?"
   ]
  },
  {
   "cell_type": "markdown",
   "id": "1521e6e2",
   "metadata": {},
   "source": [
    "To access the command line, open the Start Menu via clicking the Start Button, lower left of the screen. Scroll the left side all the way down to Windows System - click the icon and sub menu items pop in, select Command Prompt with the black icon"
   ]
  },
  {
   "cell_type": "markdown",
   "id": "d0d0782b",
   "metadata": {},
   "source": [
    "# Q5. How do you distinguish between a wrapper, a wrapped feature, and a decorator?"
   ]
  },
  {
   "cell_type": "markdown",
   "id": "26b6f7d9",
   "metadata": {},
   "source": [
    "Decorator:\n",
    "Allows objects to be composed/add capabilities by wrapping them with a class with the same interface\n",
    "\n",
    "Adapter:\n",
    "Allows you to wrap an object without a known interface implementation so it adheres to an interface. The point is to \"translate\" one interface into another.\n",
    "\n",
    "Wrapper:\n",
    "Never heard of this as a design pattern, but I suppose it's just a common name for the above\n",
    "\n",
    "The example you specify I would categorize as a decorator: The CacheRepository decorates an IRepository to add caching capabilities."
   ]
  },
  {
   "cell_type": "markdown",
   "id": "7c2bfed2",
   "metadata": {},
   "source": [
    "# Q6. If a function is a generator function, what does it return?"
   ]
  },
  {
   "cell_type": "markdown",
   "id": "811bdbb7",
   "metadata": {},
   "source": [
    "When such function is called, it doesn't run its code. Instead it returns a special object, called “generator object”, to manage the execution"
   ]
  },
  {
   "cell_type": "markdown",
   "id": "8b821f4c",
   "metadata": {},
   "source": [
    "# Q7. What is the one improvement that must be made to a function in order for it to become a generator function in the Python language?"
   ]
  },
  {
   "cell_type": "markdown",
   "id": "1b0c1ade",
   "metadata": {},
   "source": [
    "Generators are memory efficient since they only require memory for the one value they yield. Generators are lazy: they only yield values when explicitly asked. You can feed the output of a generator to the input of another generator to form data pipelines. Data pipelines can be modularized and customized to your needs"
   ]
  },
  {
   "cell_type": "markdown",
   "id": "e98204ef",
   "metadata": {},
   "source": [
    "# Q8. Identify at least one benefit of generators."
   ]
  },
  {
   "cell_type": "markdown",
   "id": "5b82f472",
   "metadata": {},
   "source": [
    "Benefits of Using a Portable Generator\n",
    "Emergency Power. If your business provides an essential service, you can't afford to be without power at all times, especially in times of natural disasters. ...\n",
    "Power for Appliances. \n",
    "Power for Tools. \n",
    "Recreational Uses. \n",
    "Damage Prevention."
   ]
  }
 ],
 "metadata": {
  "kernelspec": {
   "display_name": "Python 3",
   "language": "python",
   "name": "python3"
  },
  "language_info": {
   "codemirror_mode": {
    "name": "ipython",
    "version": 3
   },
   "file_extension": ".py",
   "mimetype": "text/x-python",
   "name": "python",
   "nbconvert_exporter": "python",
   "pygments_lexer": "ipython3",
   "version": "3.8.8"
  }
 },
 "nbformat": 4,
 "nbformat_minor": 5
}
