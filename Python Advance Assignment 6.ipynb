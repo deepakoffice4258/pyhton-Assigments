{
 "cells": [
  {
   "cell_type": "markdown",
   "id": "b30a06e1",
   "metadata": {},
   "source": [
    "# Q1. Describe three applications for exception processing."
   ]
  },
  {
   "cell_type": "markdown",
   "id": "2600d917",
   "metadata": {},
   "source": [
    "There are three types of exception—the checked exception, the error and the runtime exception"
   ]
  },
  {
   "cell_type": "markdown",
   "id": "8c41ccb5",
   "metadata": {},
   "source": [
    "# Q2. What happens if you don&#39;t do something extra to treat an exception?"
   ]
  },
  {
   "cell_type": "markdown",
   "id": "40d9338b",
   "metadata": {},
   "source": [
    "When an exception occurred, if you don't handle it, the program terminates abruptly and the code past the line that caused the exception will not get executed."
   ]
  },
  {
   "cell_type": "markdown",
   "id": "c860ee24",
   "metadata": {},
   "source": [
    "# Q3. What are your options for recovering from an exception in your script?"
   ]
  },
  {
   "cell_type": "markdown",
   "id": "b5361c48",
   "metadata": {},
   "source": [
    "The try-catch is the simplest method of handling exceptions. Put the code you want to run in the try block, and any Java exceptions that the code throws are caught by one or more catch blocks. This method will catch any type of Java exceptions that get thrown. This is the simplest mechanism for handling exceptions\n"
   ]
  },
  {
   "cell_type": "markdown",
   "id": "4c8f2b2d",
   "metadata": {},
   "source": [
    "# Q4. Describe two methods for triggering exceptions in your script."
   ]
  },
  {
   "cell_type": "markdown",
   "id": "b0778cdd",
   "metadata": {},
   "source": [
    "Throw the exception to the calling method.\n",
    "Catch the exception and handle it"
   ]
  },
  {
   "cell_type": "markdown",
   "id": "31f9cc6e",
   "metadata": {},
   "source": [
    "# Q5. Identify two methods for specifying actions to be executed at termination time, regardless of whether or not an exception exists."
   ]
  },
  {
   "cell_type": "markdown",
   "id": "2bd3295e",
   "metadata": {},
   "source": [
    "The optional else clause contains codes to be executed if no exception occurs. The optional finally block contains codes to be executed irrespective of whether an exception occurs or not"
   ]
  },
  {
   "cell_type": "code",
   "execution_count": null,
   "id": "2a4b0146",
   "metadata": {},
   "outputs": [],
   "source": []
  }
 ],
 "metadata": {
  "kernelspec": {
   "display_name": "Python 3",
   "language": "python",
   "name": "python3"
  },
  "language_info": {
   "codemirror_mode": {
    "name": "ipython",
    "version": 3
   },
   "file_extension": ".py",
   "mimetype": "text/x-python",
   "name": "python",
   "nbconvert_exporter": "python",
   "pygments_lexer": "ipython3",
   "version": "3.8.8"
  }
 },
 "nbformat": 4,
 "nbformat_minor": 5
}
