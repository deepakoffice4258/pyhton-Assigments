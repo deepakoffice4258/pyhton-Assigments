{
 "cells": [
  {
   "cell_type": "markdown",
   "id": "885d1c74",
   "metadata": {},
   "source": [
    "# Q1. Which two operator overloading methods can you use in your classes to support iteration?"
   ]
  },
  {
   "cell_type": "markdown",
   "id": "dccd42df",
   "metadata": {},
   "source": [
    "A very popular and convenient example is the Addition (+) operator. Just think how the '+' operator operates on two numbers and the same operator operates on two strings."
   ]
  },
  {
   "cell_type": "markdown",
   "id": "3e0c05e2",
   "metadata": {},
   "source": [
    "# Q2. In what contexts do the two operator overloading methods manage printing?"
   ]
  },
  {
   "cell_type": "markdown",
   "id": "c6e73978",
   "metadata": {},
   "source": [
    "Two operators = and & are already overloaded by default in C++. For example, to copy objects of the same class, we can directly use the = operator."
   ]
  },
  {
   "cell_type": "markdown",
   "id": "2b81d7df",
   "metadata": {},
   "source": [
    "# Q3. In a class, how do you intercept slice operations?"
   ]
  },
  {
   "cell_type": "markdown",
   "id": "6b5d9554",
   "metadata": {},
   "source": [
    "The slice() function returns a slice object. A slice object is used to specify how to slice a sequence. You can specify where to start the slicing, and where to end"
   ]
  },
  {
   "cell_type": "markdown",
   "id": "5c172913",
   "metadata": {},
   "source": [
    "# Q4. In a class, how do you capture in-place addition?"
   ]
  },
  {
   "cell_type": "markdown",
   "id": "fe3b3d1d",
   "metadata": {},
   "source": [
    "In-place operation is an operation that changes directly the content of a given linear algebra, vector, matrices(Tensor) without making a copy"
   ]
  },
  {
   "cell_type": "markdown",
   "id": "2260180b",
   "metadata": {},
   "source": [
    "# Q5. When is it appropriate to use operator overloading?"
   ]
  },
  {
   "cell_type": "markdown",
   "id": "34ac1373",
   "metadata": {},
   "source": [
    "Operator overloading facilitates the specification of user-defined implementation for operations wherein one or both operands are of user-defined class or structure type"
   ]
  }
 ],
 "metadata": {
  "kernelspec": {
   "display_name": "Python 3",
   "language": "python",
   "name": "python3"
  },
  "language_info": {
   "codemirror_mode": {
    "name": "ipython",
    "version": 3
   },
   "file_extension": ".py",
   "mimetype": "text/x-python",
   "name": "python",
   "nbconvert_exporter": "python",
   "pygments_lexer": "ipython3",
   "version": "3.8.8"
  }
 },
 "nbformat": 4,
 "nbformat_minor": 5
}
