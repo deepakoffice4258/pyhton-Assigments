{
 "cells": [
  {
   "cell_type": "markdown",
   "id": "d3835be8",
   "metadata": {},
   "source": [
    "# 1. What are the new features added in Python 3.8 version?"
   ]
  },
  {
   "cell_type": "markdown",
   "id": "8378085d",
   "metadata": {},
   "source": [
    "Significant additions in Python 3.8 such as walrus operator, positional only arguments, new syntax warnings."
   ]
  },
  {
   "cell_type": "markdown",
   "id": "a0bb6408",
   "metadata": {},
   "source": [
    "# 2. What is monkey patching in Python?"
   ]
  },
  {
   "cell_type": "markdown",
   "id": "f38103b3",
   "metadata": {},
   "source": [
    "In Python, the term monkey patch refers to dynamic (or run-time) modifications of a class or module."
   ]
  },
  {
   "cell_type": "markdown",
   "id": "3aae215b",
   "metadata": {},
   "source": [
    "# 3. What is the difference between a shallow copy and deep copy?"
   ]
  },
  {
   "cell_type": "markdown",
   "id": "e3dd4256",
   "metadata": {},
   "source": [
    "Shallow Copy stores the references of objects to the original memory address. Deep copy stores copies of the object's value."
   ]
  },
  {
   "cell_type": "markdown",
   "id": "e32046a8",
   "metadata": {},
   "source": [
    "# 4. What is the maximum possible length of an identifier?"
   ]
  },
  {
   "cell_type": "markdown",
   "id": "a4446bc9",
   "metadata": {},
   "source": [
    "the new limit is 31 characters—although identifiers may be longer, they must differ in the first 31 characters if you want to be sure that your programs are portable"
   ]
  },
  {
   "cell_type": "markdown",
   "id": "db398df5",
   "metadata": {},
   "source": [
    "# 5. What is generator comprehension?"
   ]
  },
  {
   "cell_type": "markdown",
   "id": "b7fd7bb6",
   "metadata": {},
   "source": [
    "Generator Comprehension is a way to initialize a generator to access elements from a container object or a sequence of data"
   ]
  }
 ],
 "metadata": {
  "kernelspec": {
   "display_name": "Python 3",
   "language": "python",
   "name": "python3"
  },
  "language_info": {
   "codemirror_mode": {
    "name": "ipython",
    "version": 3
   },
   "file_extension": ".py",
   "mimetype": "text/x-python",
   "name": "python",
   "nbconvert_exporter": "python",
   "pygments_lexer": "ipython3",
   "version": "3.8.8"
  }
 },
 "nbformat": 4,
 "nbformat_minor": 5
}
