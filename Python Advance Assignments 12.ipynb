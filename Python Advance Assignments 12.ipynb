{
 "cells": [
  {
   "cell_type": "markdown",
   "id": "7c832934",
   "metadata": {},
   "source": [
    "# Q1. Does assigning a value to a string&#39;s indexed character violate Python&#39;s string immutability?"
   ]
  },
  {
   "cell_type": "markdown",
   "id": "7795c9c8",
   "metadata": {},
   "source": [
    "As can be seen in the above example, when a string reference is reinitialized with a new value, it is creating a new object rather than overwriting the previous value. In Python, strings are made immutable so that programmers cannot alter the contents of the object (even by mistake). This avoids unnecessary bugs"
   ]
  },
  {
   "cell_type": "markdown",
   "id": "2e8ca528",
   "metadata": {},
   "source": [
    "# Q2. Does using the += operator to concatenate strings violate Python&#39;s string immutability? Why or why not?"
   ]
  },
  {
   "cell_type": "markdown",
   "id": "b76773a6",
   "metadata": {},
   "source": [
    "In Python, strings are made immutable so that programmers cannot alter the contents of the object (even by mistake)"
   ]
  },
  {
   "cell_type": "markdown",
   "id": "88473522",
   "metadata": {},
   "source": [
    "# Q3. In Python, how many different ways are there to index a character?"
   ]
  },
  {
   "cell_type": "markdown",
   "id": "d85933a3",
   "metadata": {},
   "source": [
    "String indexing in Python is zero-based: the first character in the string has index 0 , the next has index 1 , and so on. The index of the last character will be the length of the string minus one. For any non-empty string s , s[len(s)-1] and s[-1] both return the last character"
   ]
  },
  {
   "cell_type": "markdown",
   "id": "4a8be2a9",
   "metadata": {},
   "source": [
    "# Q4. What is the relationship between indexing and slicing?"
   ]
  },
  {
   "cell_type": "markdown",
   "id": "a096e432",
   "metadata": {},
   "source": [
    "“Indexing” means referring to an element of an iterable by its position within the iterable. “Slicing” means getting a subset of elements from an iterable based on their indices."
   ]
  },
  {
   "cell_type": "markdown",
   "id": "c82da66b",
   "metadata": {},
   "source": [
    "# Q5. What is an indexed character&#39;s exact data type? What is the data form of a slicing-generated substring?"
   ]
  },
  {
   "cell_type": "markdown",
   "id": "2ec750ae",
   "metadata": {},
   "source": [
    "The CHAR data type stores character data in a fixed-length field.Python slicing is about obtaining a sub-string from the given string by slicing it respectively from start to end"
   ]
  },
  {
   "cell_type": "markdown",
   "id": "7e94d2f6",
   "metadata": {},
   "source": [
    "# Q6. What is the relationship between string and character &quot;types&quot; in Python?"
   ]
  },
  {
   "cell_type": "markdown",
   "id": "5bcb8ad0",
   "metadata": {},
   "source": [
    "Characters in a string can be accessed using the standard [ ] syntax, and like Java and C++, Python uses zero-based indexing, so if s is 'hello' s[1] is 'e'. ... The len(string) function returns the length of a string."
   ]
  },
  {
   "cell_type": "markdown",
   "id": "3494f8c2",
   "metadata": {},
   "source": [
    "# Q7. Identify at least two operators and one method that allow you to combine one or more smaller strings to create a larger string."
   ]
  },
  {
   "cell_type": "markdown",
   "id": "570398f8",
   "metadata": {},
   "source": [
    "The ampersand symbol is the recommended concatenation operator. It is used to bind a number of string variables together, creating one string from two or more individual strings"
   ]
  },
  {
   "cell_type": "markdown",
   "id": "a633f9ea",
   "metadata": {},
   "source": [
    "# Q8. What is the benefit of first checking the target string with in or not in before using the index method to find a substring?"
   ]
  },
  {
   "cell_type": "markdown",
   "id": "35ae9f19",
   "metadata": {},
   "source": [
    "You can use the in operator or the string's find method to check if a string contains another string. The in operator returns True if the substring exists in the string."
   ]
  },
  {
   "cell_type": "markdown",
   "id": "d4435d0f",
   "metadata": {},
   "source": [
    "# Q9. Which operators and built-in string methods produce simple Boolean (true/false) results?"
   ]
  },
  {
   "cell_type": "markdown",
   "id": "fa137925",
   "metadata": {},
   "source": [
    "Logical operators: A logical operator compares 2 Boolean (logical) expressions and return a Boolean result. Example: the logical operation true AND false returns the Boolean value false."
   ]
  }
 ],
 "metadata": {
  "kernelspec": {
   "display_name": "Python 3",
   "language": "python",
   "name": "python3"
  },
  "language_info": {
   "codemirror_mode": {
    "name": "ipython",
    "version": 3
   },
   "file_extension": ".py",
   "mimetype": "text/x-python",
   "name": "python",
   "nbconvert_exporter": "python",
   "pygments_lexer": "ipython3",
   "version": "3.8.8"
  }
 },
 "nbformat": 4,
 "nbformat_minor": 5
}
