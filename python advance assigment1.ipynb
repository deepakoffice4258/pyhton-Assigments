{
 "cells": [
  {
   "cell_type": "markdown",
   "id": "f3a26be9",
   "metadata": {},
   "source": [
    "# Q1. What is the purpose of Python&#39;s OOP?"
   ]
  },
  {
   "cell_type": "markdown",
   "id": "bb6ae738",
   "metadata": {},
   "source": [
    "In Python, object-oriented Programming (OOPs) is a programming paradigm that uses objects and classes in programming. It aims to implement real-world entities like inheritance, polymorphisms, encapsulation, etc"
   ]
  },
  {
   "cell_type": "markdown",
   "id": "8a22c5fb",
   "metadata": {},
   "source": [
    "# Q2. Where does an inheritance search look for an attribute?"
   ]
  },
  {
   "cell_type": "markdown",
   "id": "a18af246",
   "metadata": {},
   "source": [
    "In Python, inheritance happens when an object is qualified, and involves searching an attribute definition tree (one or more namespaces)"
   ]
  },
  {
   "cell_type": "markdown",
   "id": "9cb97a4a",
   "metadata": {},
   "source": [
    "# Q3. How do you distinguish between a class object and an instance object?"
   ]
  },
  {
   "cell_type": "markdown",
   "id": "d9acd376",
   "metadata": {},
   "source": [
    "In simple words, Instance refers to the copy of the object at a particular time whereas object refers to the memory address of the class"
   ]
  },
  {
   "cell_type": "markdown",
   "id": "25bfac94",
   "metadata": {},
   "source": [
    "# Q4. What makes the first argument in a class’s method function special?"
   ]
  },
  {
   "cell_type": "markdown",
   "id": "d0d27d54",
   "metadata": {},
   "source": [
    "What makes the first argument in a class's method function special?\n",
    "In this example however there is no such method. 'bob.name' (which has no parenthesis) is directly accessing the attribute called name from the init (constructor) method."
   ]
  },
  {
   "cell_type": "markdown",
   "id": "566fa44e",
   "metadata": {},
   "source": [
    "# Q5. What is the purpose of the __init__ method?"
   ]
  },
  {
   "cell_type": "markdown",
   "id": "9f8abb5e",
   "metadata": {},
   "source": [
    "It is called as a constructor in object oriented terminology. This method is called when an object is created from a class and it allows the class to initialize the attributes of the class."
   ]
  },
  {
   "cell_type": "markdown",
   "id": "e7e5c138",
   "metadata": {},
   "source": [
    "# Q6. What is the process for creating a class instance?"
   ]
  },
  {
   "cell_type": "markdown",
   "id": "185d9b00",
   "metadata": {},
   "source": [
    "Instantiation: The 'new' key word is used to create the object. Initialization: The 'new' keyword is followed by a call to a constructor. This call initializes the new object"
   ]
  },
  {
   "cell_type": "markdown",
   "id": "9a5fa2b0",
   "metadata": {},
   "source": [
    "# Q7. What is the process for creating a class?"
   ]
  },
  {
   "cell_type": "markdown",
   "id": "8ea12e20",
   "metadata": {},
   "source": [
    "There are three steps when creating an object from a class. Declaration : A variable declaration with a variable name with an object type. Instantiation : The 'new' keyword is used to create the object. Initialization : The 'new' keyword is followed by a call o a constructor"
   ]
  },
  {
   "cell_type": "markdown",
   "id": "fa93239a",
   "metadata": {},
   "source": [
    "# Q8. How would you define the superclasses of a class?"
   ]
  },
  {
   "cell_type": "markdown",
   "id": "219c445c",
   "metadata": {},
   "source": [
    "he class from which a class inherits is called the parent or superclass. A class which inherits from a superclass is called a subclass, also called heir class or child class. Superclasses are sometimes called ancestors as well."
   ]
  }
 ],
 "metadata": {
  "kernelspec": {
   "display_name": "Python 3",
   "language": "python",
   "name": "python3"
  },
  "language_info": {
   "codemirror_mode": {
    "name": "ipython",
    "version": 3
   },
   "file_extension": ".py",
   "mimetype": "text/x-python",
   "name": "python",
   "nbconvert_exporter": "python",
   "pygments_lexer": "ipython3",
   "version": "3.8.8"
  }
 },
 "nbformat": 4,
 "nbformat_minor": 5
}
