{
 "cells": [
  {
   "cell_type": "markdown",
   "id": "f35c57f3",
   "metadata": {},
   "source": [
    "# Q1. What are the two latest user-defined exception constraints in Python 3.X?"
   ]
  },
  {
   "cell_type": "markdown",
   "id": "8a53c89d",
   "metadata": {},
   "source": [
    "IndexError. The IndexError is thrown when trying to access an item at an invalid index. \n",
    "ModuleNotFoundError. The ModuleNotFoundError is thrown when a module could not be found. \n",
    "KeyError. The KeyError is thrown when a key is not found. \n",
    "ImportError. \n",
    "StopIteration. \n",
    "TypeError. \n",
    "ValueError. \n",
    "NameError."
   ]
  },
  {
   "cell_type": "markdown",
   "id": "16e89631",
   "metadata": {},
   "source": [
    "# Q2. How are class-based exceptions that have been raised matched to handlers?"
   ]
  },
  {
   "cell_type": "markdown",
   "id": "404c042c",
   "metadata": {},
   "source": [
    "Class-based exceptions can be declared in the interface of procedures. For local procedures, this is done using the addition RAISING of the statements METHODS and FORM. In Class Builder and Function Builder, this done by selecting exception classes when defining exceptions in the interface"
   ]
  },
  {
   "cell_type": "markdown",
   "id": "eb4ebc92",
   "metadata": {},
   "source": [
    "# Q3. Describe two methods for specifying the text of an exception object&#39;s error message."
   ]
  },
  {
   "cell_type": "markdown",
   "id": "d77f40fd",
   "metadata": {},
   "source": [
    "public String getMessage()\n",
    "\n",
    "Returns a detailed message about the exception that has occurred. This message is initialized in the Throwable constructor"
   ]
  },
  {
   "cell_type": "markdown",
   "id": "bf02e8bb",
   "metadata": {},
   "source": [
    "# Q4. Why do you no longer use string-based exceptions?"
   ]
  },
  {
   "cell_type": "markdown",
   "id": "4bc038c4",
   "metadata": {},
   "source": [
    "User-defined Python exceptions can be either strings or Python classes. Since classes have many nice properties when used as exceptions, it is desirable to migrate to a situation where classes are used exclusively. "
   ]
  }
 ],
 "metadata": {
  "kernelspec": {
   "display_name": "Python 3",
   "language": "python",
   "name": "python3"
  },
  "language_info": {
   "codemirror_mode": {
    "name": "ipython",
    "version": 3
   },
   "file_extension": ".py",
   "mimetype": "text/x-python",
   "name": "python",
   "nbconvert_exporter": "python",
   "pygments_lexer": "ipython3",
   "version": "3.8.8"
  }
 },
 "nbformat": 4,
 "nbformat_minor": 5
}
