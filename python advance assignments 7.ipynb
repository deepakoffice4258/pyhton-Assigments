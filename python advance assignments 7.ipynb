{
 "cells": [
  {
   "cell_type": "markdown",
   "id": "0eca15a0",
   "metadata": {},
   "source": [
    "# Q1. What is the purpose of the try statement?"
   ]
  },
  {
   "cell_type": "markdown",
   "id": "2bcacc19",
   "metadata": {},
   "source": [
    "Try/catch blocks allow a program to handle an exception gracefully in the way the programmer wants them to. For example, try/catch blocks will let a program print an error message (rather than simply crash) if it can't find an input file. Try blocks are the first part of try/catch blocks"
   ]
  },
  {
   "cell_type": "markdown",
   "id": "d545290d",
   "metadata": {},
   "source": [
    "# Q2. What are the two most popular try statement variations?"
   ]
  },
  {
   "cell_type": "markdown",
   "id": "9c53077f",
   "metadata": {},
   "source": [
    "Error in Python can be of two types i.e. Syntax errors and Exceptions."
   ]
  },
  {
   "cell_type": "markdown",
   "id": "2383dabb",
   "metadata": {},
   "source": [
    "# Q3. What is the purpose of the raise statement?"
   ]
  },
  {
   "cell_type": "markdown",
   "id": "d9b7e4cb",
   "metadata": {},
   "source": [
    "The RAISE statement stops normal execution of a PL/SQL block or subprogram and transfers control to an exception handler."
   ]
  },
  {
   "cell_type": "markdown",
   "id": "76d14b09",
   "metadata": {},
   "source": [
    "# Q4. What does the assert statement do, and what other statement is it like?"
   ]
  },
  {
   "cell_type": "markdown",
   "id": "72cb6b88",
   "metadata": {},
   "source": [
    "An assert statement is used to declare an expected boolean condition in a program."
   ]
  },
  {
   "cell_type": "markdown",
   "id": "71c99249",
   "metadata": {},
   "source": [
    "# Q5. What is the purpose of the with/as argument, and what other statement is it like?"
   ]
  },
  {
   "cell_type": "code",
   "execution_count": null,
   "id": "83333c4f",
   "metadata": {},
   "outputs": [],
   "source": []
  }
 ],
 "metadata": {
  "kernelspec": {
   "display_name": "Python 3",
   "language": "python",
   "name": "python3"
  },
  "language_info": {
   "codemirror_mode": {
    "name": "ipython",
    "version": 3
   },
   "file_extension": ".py",
   "mimetype": "text/x-python",
   "name": "python",
   "nbconvert_exporter": "python",
   "pygments_lexer": "ipython3",
   "version": "3.8.8"
  }
 },
 "nbformat": 4,
 "nbformat_minor": 5
}
