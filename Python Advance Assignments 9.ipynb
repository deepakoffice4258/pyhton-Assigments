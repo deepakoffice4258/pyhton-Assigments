{
 "cells": [
  {
   "cell_type": "markdown",
   "id": "316c3d4d",
   "metadata": {},
   "source": [
    "# Q1. In Python 3.X, what are the names and functions of string object types?"
   ]
  },
  {
   "cell_type": "markdown",
   "id": "8d4beda0",
   "metadata": {},
   "source": [
    "join()\tConverts the elements of an iterable into a string\n",
    "ljust()\tReturns a left justified version of the string\n",
    "lower()\tConverts a string into lower case\n",
    "lstrip()\tReturns a left trim version of the string"
   ]
  },
  {
   "cell_type": "markdown",
   "id": "48582f38",
   "metadata": {},
   "source": [
    "# Q2. How do the string forms in Python 3.X vary in terms of operations?"
   ]
  },
  {
   "cell_type": "markdown",
   "id": "17e1dff9",
   "metadata": {},
   "source": [
    "Python + operator – String Concatenation operator. The + operator joins all the operand strings and returns a concatenated string. ...\n",
    "Python * operator – String Replication operator. \n",
    "s.capitalize() in Python. \n",
    "s.lower() in Python. \n",
    "s.upper() in Python. \n",
    "s.title() in Python. \n",
    "s"
   ]
  },
  {
   "cell_type": "markdown",
   "id": "726d87ef",
   "metadata": {},
   "source": [
    "# Q3. In 3.X, how do you put non-ASCII Unicode characters in a string?"
   ]
  },
  {
   "cell_type": "markdown",
   "id": "ce6dd6a1",
   "metadata": {},
   "source": [
    "Call str. encode(encoding, errors) with encoding as \"ASCII\" and errors as \"ignore\" to return str without \"ASCII\" characters. Use str. decode() to encode str "
   ]
  },
  {
   "cell_type": "markdown",
   "id": "93f49394",
   "metadata": {},
   "source": [
    "# Q4. In Python 3.X, what are the key differences between text-mode and binary-mode files?"
   ]
  },
  {
   "cell_type": "markdown",
   "id": "5697869a",
   "metadata": {},
   "source": [
    "Mostly .txt and .rtf are used as extensions to text files.\tCan have any application defined extension"
   ]
  },
  {
   "cell_type": "markdown",
   "id": "f3eacb1b",
   "metadata": {},
   "source": [
    "# Q5. How can you interpret a Unicode text file containing text encoded in a different encoding than your platform&#39;s default?"
   ]
  },
  {
   "cell_type": "markdown",
   "id": "b258c8b4",
   "metadata": {},
   "source": [
    "The Unicode character encoding standard is a fixed-length, character encoding scheme that includes characters from almost all of the living languages of the world"
   ]
  },
  {
   "cell_type": "markdown",
   "id": "588a3493",
   "metadata": {},
   "source": [
    "# Q6. What is the best way to make a Unicode text file in a particular encoding format?"
   ]
  },
  {
   "cell_type": "markdown",
   "id": "52f17625",
   "metadata": {},
   "source": [
    "write() to write unicode text to a text file. Call str. encode(encoding) with encoding set to \"utf8\" to encode str . Call open(file, mode) to open a file with mode set to \"wb\" "
   ]
  },
  {
   "cell_type": "markdown",
   "id": "cf94a6b7",
   "metadata": {},
   "source": [
    "# Q7. What qualifies ASCII text as a form of Unicode text?"
   ]
  },
  {
   "cell_type": "markdown",
   "id": "5a67c5fb",
   "metadata": {},
   "source": [
    "Unicode is the Information Technology standard that is used for encoding, representation, and handling of texts in the writing systems whereas ASCII (American Standard Code for Information Interchange) represents text in computers such as symbols, digits, uppercase letters, and lowercase letters"
   ]
  },
  {
   "cell_type": "markdown",
   "id": "608ad134",
   "metadata": {},
   "source": [
    "# Q8. How much of an effect does the change in string types in Python 3.X have on your code?"
   ]
  },
  {
   "cell_type": "markdown",
   "id": "f7caeb39",
   "metadata": {},
   "source": [
    "Most notable and most widely known change in Python 3 is how the print function is used. Use of parenthesis () with print function is now mandatory. It was optional in Python 2. The print() function inserts a new line at the end, by default."
   ]
  }
 ],
 "metadata": {
  "kernelspec": {
   "display_name": "Python 3",
   "language": "python",
   "name": "python3"
  },
  "language_info": {
   "codemirror_mode": {
    "name": "ipython",
    "version": 3
   },
   "file_extension": ".py",
   "mimetype": "text/x-python",
   "name": "python",
   "nbconvert_exporter": "python",
   "pygments_lexer": "ipython3",
   "version": "3.8.8"
  }
 },
 "nbformat": 4,
 "nbformat_minor": 5
}
