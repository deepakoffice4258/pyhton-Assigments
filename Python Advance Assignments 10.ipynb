{
 "cells": [
  {
   "cell_type": "markdown",
   "id": "ac5defa3",
   "metadata": {},
   "source": [
    "# Q1. What is the difference between __getattr__ and __getattribute__?"
   ]
  },
  {
   "cell_type": "markdown",
   "id": "2e95711b",
   "metadata": {},
   "source": [
    "getattribute: Is used to retrieve an attribute from an instance. getattr: Is executed as the last resource when attribute is not found in an object"
   ]
  },
  {
   "cell_type": "markdown",
   "id": "b67adb72",
   "metadata": {},
   "source": [
    "# Q2. What is the difference between properties and descriptors?"
   ]
  },
  {
   "cell_type": "markdown",
   "id": "05befe61",
   "metadata": {},
   "source": [
    "The Cliff's Notes version: descriptors are a low-level mechanism that lets you hook into an object's attributes being accessed. Properties are a high-level application of this; that is, properties are implemented using descriptors."
   ]
  },
  {
   "cell_type": "markdown",
   "id": "c244cb81",
   "metadata": {},
   "source": [
    "# Q3. What are the key differences in functionality between __getattr__ and __getattribute__, as well as properties and descriptors?"
   ]
  },
  {
   "cell_type": "markdown",
   "id": "d0ef2215",
   "metadata": {},
   "source": [
    "__setattribute__ does not exist because __setattr__ is always called. __getattr__ is only called for f.x if the attribute lookup fails via the normal channel (which is provided by __getattribute__, so that function is similarly always called)"
   ]
  },
  {
   "cell_type": "code",
   "execution_count": null,
   "id": "c9dbda89",
   "metadata": {},
   "outputs": [],
   "source": []
  }
 ],
 "metadata": {
  "kernelspec": {
   "display_name": "Python 3",
   "language": "python",
   "name": "python3"
  },
  "language_info": {
   "codemirror_mode": {
    "name": "ipython",
    "version": 3
   },
   "file_extension": ".py",
   "mimetype": "text/x-python",
   "name": "python",
   "nbconvert_exporter": "python",
   "pygments_lexer": "ipython3",
   "version": "3.8.8"
  }
 },
 "nbformat": 4,
 "nbformat_minor": 5
}
